{
 "cells": [
  {
   "cell_type": "code",
   "execution_count": 1,
   "metadata": {},
   "outputs": [],
   "source": [
    "import tensorflow as tf"
   ]
  },
  {
   "cell_type": "code",
   "execution_count": 7,
   "metadata": {},
   "outputs": [
    {
     "name": "stderr",
     "output_type": "stream",
     "text": [
      "Using TensorFlow backend.\n"
     ]
    }
   ],
   "source": [
    "import keras"
   ]
  },
  {
   "cell_type": "code",
   "execution_count": 8,
   "metadata": {
    "scrolled": false
   },
   "outputs": [
    {
     "name": "stdout",
     "output_type": "stream",
     "text": [
      "Help on module tensorflow.python.ops.image_ops in tensorflow.python.ops:\n",
      "\n",
      "NAME\n",
      "    tensorflow.python.ops.image_ops - Image processing and decoding ops.\n",
      "\n",
      "DESCRIPTION\n",
      "    See the @{$python/image} guide.\n",
      "    \n",
      "    @@decode_bmp\n",
      "    @@decode_gif\n",
      "    @@decode_jpeg\n",
      "    @@decode_and_crop_jpeg\n",
      "    @@encode_jpeg\n",
      "    @@extract_jpeg_shape\n",
      "    @@decode_png\n",
      "    @@encode_png\n",
      "    @@is_jpeg\n",
      "    @@decode_image\n",
      "    @@resize_images\n",
      "    @@resize_area\n",
      "    @@resize_bicubic\n",
      "    @@resize_bilinear\n",
      "    @@resize_nearest_neighbor\n",
      "    @@resize_image_with_crop_or_pad\n",
      "    @@central_crop\n",
      "    @@pad_to_bounding_box\n",
      "    @@crop_to_bounding_box\n",
      "    @@extract_glimpse\n",
      "    @@crop_and_resize\n",
      "    @@flip_up_down\n",
      "    @@random_flip_up_down\n",
      "    @@flip_left_right\n",
      "    @@random_flip_left_right\n",
      "    @@transpose_image\n",
      "    @@rot90\n",
      "    \n",
      "    @@rgb_to_grayscale\n",
      "    @@grayscale_to_rgb\n",
      "    @@hsv_to_rgb\n",
      "    @@rgb_to_hsv\n",
      "    @@rgb_to_yiq\n",
      "    @@yiq_to_rgb\n",
      "    @@rgb_to_yuv\n",
      "    @@yuv_to_rgb\n",
      "    @@convert_image_dtype\n",
      "    @@adjust_brightness\n",
      "    @@random_brightness\n",
      "    @@adjust_contrast\n",
      "    @@random_contrast\n",
      "    @@adjust_hue\n",
      "    @@random_hue\n",
      "    @@adjust_gamma\n",
      "    @@adjust_saturation\n",
      "    @@random_saturation\n",
      "    @@per_image_standardization\n",
      "    @@draw_bounding_boxes\n",
      "    @@non_max_suppression\n",
      "    @@sample_distorted_bounding_box\n",
      "    @@total_variation\n",
      "\n",
      "FILE\n",
      "    c:\\users\\10151\\appdata\\local\\programs\\python\\python36\\lib\\site-packages\\tensorflow\\python\\ops\\image_ops.py\n",
      "\n",
      "\n"
     ]
    }
   ],
   "source": [
    "help(tf.image)"
   ]
  },
  {
   "cell_type": "code",
   "execution_count": null,
   "metadata": {},
   "outputs": [],
   "source": []
  }
 ],
 "metadata": {
  "kernelspec": {
   "display_name": "Python 3",
   "language": "python",
   "name": "python3"
  },
  "language_info": {
   "codemirror_mode": {
    "name": "ipython",
    "version": 3
   },
   "file_extension": ".py",
   "mimetype": "text/x-python",
   "name": "python",
   "nbconvert_exporter": "python",
   "pygments_lexer": "ipython3",
   "version": "3.6.6"
  }
 },
 "nbformat": 4,
 "nbformat_minor": 2
}
