{
 "cells": [
  {
   "cell_type": "code",
   "execution_count": 1,
   "metadata": {},
   "outputs": [],
   "source": [
    "import gdal\n",
    "import numpy as np\n",
    "import cv2\n",
    "from tqdm import tqdm\n",
    "def gen_sub_img0(stride=512):\n",
    "    image_size=stride\n",
    "    IMG_SET=['2016']\n",
    "    predir=r'D:\\Python\\seg-data\\data_MB/'\n",
    "    g_count = 0\n",
    "    for n in tqdm(range(len(IMG_SET))):\n",
    "        tif_img = gdal.Open(predir+IMG_SET[n]+'.tif')\n",
    "        label_img=cv2.imread(predir+IMG_SET[n]+'.png',cv2.IMREAD_GRAYSCALE)\n",
    "        tif_w = tif_img.RasterXSize #栅格矩阵的列数\n",
    "        tif_h = tif_img.RasterYSize\n",
    "        tif_data=tif_img.ReadAsArray(0,0,tif_w,tif_h)\n",
    "        tif_d=tif_data.shape[0]\n",
    "        tif_data=np.array(tif_data, dtype=float)\n",
    "        image=cv2.merge(tif_data)\n",
    "        h,w,_ = image.shape\n",
    "        padding_h = (h//stride + 1) * stride \n",
    "        padding_w = (w//stride + 1) * stride\n",
    "        padding_img = np.zeros((padding_h,padding_w,_))\n",
    "        padding_label= np.zeros((padding_h,padding_w))\n",
    "        padding_img[0:h,0:w,:] = image[:,:,:]\n",
    "        padding_label[0:h,0:w] = label_img[:,:]\n",
    "        #b1,b2,b3,b4=cv2.split(padding_img) \n",
    "        #print(np.sum(b1==0))\n",
    "        for i in range(padding_h//stride):\n",
    "            for j in range(padding_w//stride):\n",
    "                crop = padding_img[i*stride:i*stride+image_size,j*stride:j*stride+image_size,:]\n",
    "                sub_label = padding_label[i*stride:i*stride+image_size,j*stride:j*stride+image_size]\n",
    "                 \n",
    "                if (np.sum(sub_label==0)!=stride*stride):\n",
    "                    print(np.sum(sub_label!=0))\n",
    "                    cv2.imwrite(('D:\\Python\\seg-data\\gen_sub_img0/labelV/%d.png' % g_count),sub_label*255)\n",
    "                    np.save('D:\\Python\\seg-data\\gen_sub_img0/src/%d' % g_count,crop)\n",
    "                    cv2.imwrite(('D:\\Python\\seg-data\\gen_sub_img0/label/%d.png' % g_count),sub_label)\n",
    "                    g_count=g_count+1    \n",
    "        for n in tqdm(range(len(IMG_SET))):\n",
    "            tif_img = gdal.Open(predir+IMG_SET[n]+'.tif')\n",
    "            label_img=cv2.imread(predir+IMG_SET[n]+'.png',cv2.IMREAD_GRAYSCALE)\n",
    "            tif_w = tif_img.RasterXSize #栅格矩阵的列数\n",
    "            tif_h = tif_img.RasterYSize\n",
    "            tif_data=tif_img.ReadAsArray(0,0,tif_w,tif_h)\n",
    "            tif_d=tif_data.shape[0]\n",
    "            tif_data=np.array(tif_data, dtype=float)\n",
    "            image=cv2.merge(tif_data)\n",
    "            h,w,_ = image.shape\n",
    "            padding_h = (h//stride + 1) * stride \n",
    "            padding_w = (w//stride + 1) * stride\n",
    "            padding_img = np.zeros((padding_h,padding_w,_))\n",
    "            padding_label= np.zeros((padding_h,padding_w))\n",
    "            padding_img[-h:,-w:,:] = image[:,:,:]\n",
    "            padding_label[-h:,-w:] = label_img[:,:]\n",
    "        #b1,b2,b3,b4=cv2.split(padding_img) \n",
    "        #print(np.sum(b1==0))\n",
    "            for i in range(padding_h//stride):\n",
    "                for j in range(padding_w//stride):\n",
    "                    crop = padding_img[i*stride:i*stride+image_size,j*stride:j*stride+image_size,:]\n",
    "                    sub_label = padding_label[i*stride:i*stride+image_size,j*stride:j*stride+image_size]\n",
    "                 \n",
    "                    if (np.sum(sub_label==0)!=stride*stride):\n",
    "                        print(np.sum(sub_label!=0))\n",
    "                        cv2.imwrite(('D:\\Python\\seg-data\\gen_sub_img0/labelV/%d.png' % g_count),sub_label*255)\n",
    "                        np.save('D:\\Python\\seg-data\\gen_sub_img0/src/%d' % g_count,crop)\n",
    "                        cv2.imwrite(('D:\\Python\\seg-data\\gen_sub_img0/label/%d.png' % g_count),sub_label)\n",
    "                        g_count=g_count+1    "
   ]
  },
  {
   "cell_type": "code",
   "execution_count": 2,
   "metadata": {},
   "outputs": [
    {
     "name": "stderr",
     "output_type": "stream",
     "text": [
      "\r",
      "  0%|                                                                                            | 0/1 [00:00<?, ?it/s]"
     ]
    },
    {
     "name": "stdout",
     "output_type": "stream",
     "text": [
      "28053\n",
      "50516\n",
      "4124\n",
      "145516\n",
      "29725\n",
      "106248\n",
      "68013\n",
      "16351\n"
     ]
    },
    {
     "name": "stderr",
     "output_type": "stream",
     "text": [
      "\n",
      "  0%|                                                                                            | 0/1 [00:00<?, ?it/s]"
     ]
    },
    {
     "name": "stdout",
     "output_type": "stream",
     "text": [
      "1087\n",
      "52706\n",
      "111958\n",
      "69889\n",
      "79976\n",
      "73408\n",
      "57371\n",
      "1635\n",
      "516\n"
     ]
    },
    {
     "name": "stderr",
     "output_type": "stream",
     "text": [
      "\n",
      "100%|████████████████████████████████████████████████████████████████████████████████████| 1/1 [00:01<00:00,  1.54s/it]\n"
     ]
    }
   ],
   "source": [
    "gen_sub_img0()"
   ]
  }
 ],
 "metadata": {
  "kernelspec": {
   "display_name": "Python 3",
   "language": "python",
   "name": "python3"
  },
  "language_info": {
   "codemirror_mode": {
    "name": "ipython",
    "version": 3
   },
   "file_extension": ".py",
   "mimetype": "text/x-python",
   "name": "python",
   "nbconvert_exporter": "python",
   "pygments_lexer": "ipython3",
   "version": "3.6.6"
  }
 },
 "nbformat": 4,
 "nbformat_minor": 2
}
